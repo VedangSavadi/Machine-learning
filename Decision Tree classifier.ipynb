{
 "cells": [
  {
   "cell_type": "code",
   "execution_count": 1,
   "id": "0f8b761f",
   "metadata": {},
   "outputs": [],
   "source": [
    "import numpy as np\n",
    "import pandas as pd\n",
    "from sklearn.tree import DecisionTreeClassifier\n",
    "import sklearn.tree as tree"
   ]
  },
  {
   "cell_type": "code",
   "execution_count": 7,
   "id": "871584d0",
   "metadata": {},
   "outputs": [
    {
     "data": {
      "text/html": [
       "<div>\n",
       "<style scoped>\n",
       "    .dataframe tbody tr th:only-of-type {\n",
       "        vertical-align: middle;\n",
       "    }\n",
       "\n",
       "    .dataframe tbody tr th {\n",
       "        vertical-align: top;\n",
       "    }\n",
       "\n",
       "    .dataframe thead th {\n",
       "        text-align: right;\n",
       "    }\n",
       "</style>\n",
       "<table border=\"1\" class=\"dataframe\">\n",
       "  <thead>\n",
       "    <tr style=\"text-align: right;\">\n",
       "      <th></th>\n",
       "      <th>Age</th>\n",
       "      <th>Sex</th>\n",
       "      <th>BP</th>\n",
       "      <th>Cholesterol</th>\n",
       "      <th>Na_to_K</th>\n",
       "      <th>Drug</th>\n",
       "    </tr>\n",
       "  </thead>\n",
       "  <tbody>\n",
       "    <tr>\n",
       "      <th>0</th>\n",
       "      <td>23</td>\n",
       "      <td>F</td>\n",
       "      <td>HIGH</td>\n",
       "      <td>HIGH</td>\n",
       "      <td>25.355</td>\n",
       "      <td>drugY</td>\n",
       "    </tr>\n",
       "    <tr>\n",
       "      <th>1</th>\n",
       "      <td>47</td>\n",
       "      <td>M</td>\n",
       "      <td>LOW</td>\n",
       "      <td>HIGH</td>\n",
       "      <td>13.093</td>\n",
       "      <td>drugC</td>\n",
       "    </tr>\n",
       "    <tr>\n",
       "      <th>2</th>\n",
       "      <td>47</td>\n",
       "      <td>M</td>\n",
       "      <td>LOW</td>\n",
       "      <td>HIGH</td>\n",
       "      <td>10.114</td>\n",
       "      <td>drugC</td>\n",
       "    </tr>\n",
       "    <tr>\n",
       "      <th>3</th>\n",
       "      <td>28</td>\n",
       "      <td>F</td>\n",
       "      <td>NORMAL</td>\n",
       "      <td>HIGH</td>\n",
       "      <td>7.798</td>\n",
       "      <td>drugX</td>\n",
       "    </tr>\n",
       "    <tr>\n",
       "      <th>4</th>\n",
       "      <td>61</td>\n",
       "      <td>F</td>\n",
       "      <td>LOW</td>\n",
       "      <td>HIGH</td>\n",
       "      <td>18.043</td>\n",
       "      <td>drugY</td>\n",
       "    </tr>\n",
       "  </tbody>\n",
       "</table>\n",
       "</div>"
      ],
      "text/plain": [
       "   Age Sex      BP Cholesterol  Na_to_K   Drug\n",
       "0   23   F    HIGH        HIGH   25.355  drugY\n",
       "1   47   M     LOW        HIGH   13.093  drugC\n",
       "2   47   M     LOW        HIGH   10.114  drugC\n",
       "3   28   F  NORMAL        HIGH    7.798  drugX\n",
       "4   61   F     LOW        HIGH   18.043  drugY"
      ]
     },
     "execution_count": 7,
     "metadata": {},
     "output_type": "execute_result"
    }
   ],
   "source": [
    "my_data = pd.read_csv(\"https://cf-courses-data.s3.us.cloud-object-storage.appdomain.cloud/IBMDeveloperSkillsNetwork-ML0101EN-SkillsNetwork/labs/Module%203/data/drug200.csv\" , delimiter = \",\")\n",
    "my_data[0:5]"
   ]
  },
  {
   "cell_type": "code",
   "execution_count": 9,
   "id": "9a5272ce",
   "metadata": {},
   "outputs": [
    {
     "data": {
      "text/plain": [
       "(200, 6)"
      ]
     },
     "execution_count": 9,
     "metadata": {},
     "output_type": "execute_result"
    }
   ],
   "source": [
    "my_data.shape"
   ]
  },
  {
   "cell_type": "code",
   "execution_count": 10,
   "id": "e7ce3fe1",
   "metadata": {},
   "outputs": [
    {
     "data": {
      "text/plain": [
       "Index(['Age', 'Sex', 'BP', 'Cholesterol', 'Na_to_K', 'Drug'], dtype='object')"
      ]
     },
     "execution_count": 10,
     "metadata": {},
     "output_type": "execute_result"
    }
   ],
   "source": [
    "my_data.columns"
   ]
  },
  {
   "cell_type": "code",
   "execution_count": 11,
   "id": "4a6db3c1",
   "metadata": {},
   "outputs": [
    {
     "data": {
      "text/plain": [
       "array([[23, 'F', 'HIGH', 'HIGH', 25.355],\n",
       "       [47, 'M', 'LOW', 'HIGH', 13.093],\n",
       "       [47, 'M', 'LOW', 'HIGH', 10.114],\n",
       "       [28, 'F', 'NORMAL', 'HIGH', 7.798],\n",
       "       [61, 'F', 'LOW', 'HIGH', 18.043]], dtype=object)"
      ]
     },
     "execution_count": 11,
     "metadata": {},
     "output_type": "execute_result"
    }
   ],
   "source": [
    "x = my_data[['Age', 'Sex', 'BP', 'Cholesterol', 'Na_to_K',]].values\n",
    "x[0:5]"
   ]
  },
  {
   "cell_type": "code",
   "execution_count": 20,
   "id": "dbc5f7b0",
   "metadata": {},
   "outputs": [
    {
     "name": "stdout",
     "output_type": "stream",
     "text": [
      "bp : ['HIGH' 'LOW' 'NORMAL']\n",
      "sex : ['F' 'M']\n",
      "cholesterol : ['HIGH' 'NORMAL']\n"
     ]
    }
   ],
   "source": [
    "print('bp :',my_data['BP'].unique())\n",
    "print('sex :',my_data['Sex'].unique())\n",
    "print('cholesterol :',my_data['Cholesterol'].unique())"
   ]
  },
  {
   "cell_type": "code",
   "execution_count": 22,
   "id": "4da8ed40",
   "metadata": {},
   "outputs": [
    {
     "data": {
      "text/plain": [
       "array([[23, 0, 0, 0, 25.355],\n",
       "       [47, 1, 1, 0, 13.093],\n",
       "       [47, 1, 1, 0, 10.114],\n",
       "       [28, 0, 2, 0, 7.798],\n",
       "       [61, 0, 1, 0, 18.043]], dtype=object)"
      ]
     },
     "execution_count": 22,
     "metadata": {},
     "output_type": "execute_result"
    }
   ],
   "source": [
    "# pre-processing\n",
    "from sklearn import preprocessing\n",
    "le_sex = preprocessing.LabelEncoder()\n",
    "le_sex.fit(['F','M'])\n",
    "x[:, 1]=le_sex.transform(x[:,1])\n",
    "\n",
    "le_BP = preprocessing.LabelEncoder()\n",
    "le_BP.fit(['HIGH','LOW','NORMAL'])\n",
    "x[:,2] = le_BP.transform(x[:,2])\n",
    "\n",
    "le_chol = preprocessing.LabelEncoder()\n",
    "le_chol.fit(['HIGH','NORMAL'])\n",
    "x[:,3]=le_chol.transform(x[:,3])\n",
    "\n",
    "x[0:5]\n"
   ]
  },
  {
   "cell_type": "code",
   "execution_count": 33,
   "id": "d3109127",
   "metadata": {},
   "outputs": [
    {
     "data": {
      "text/plain": [
       "array(['drugY', 'drugC', 'drugC', 'drugX', 'drugY'], dtype=object)"
      ]
     },
     "execution_count": 33,
     "metadata": {},
     "output_type": "execute_result"
    }
   ],
   "source": [
    "# fill the target variable\n",
    "y = my_data[\"Drug\"].values\n",
    "y[0:5]"
   ]
  },
  {
   "cell_type": "code",
   "execution_count": 34,
   "id": "3afa2fc5",
   "metadata": {},
   "outputs": [],
   "source": [
    "from sklearn.model_selection import train_test_split\n",
    "\n",
    "x_trainset , x_testset , y_trainset , y_testset = train_test_split(x , y , test_size = 0.3 , random_state = 3)"
   ]
  },
  {
   "cell_type": "code",
   "execution_count": 35,
   "id": "6fcb1db5",
   "metadata": {},
   "outputs": [
    {
     "name": "stdout",
     "output_type": "stream",
     "text": [
      "shape of x trainging set (140, 5)  & shape of y training set (140,)\n"
     ]
    }
   ],
   "source": [
    "print('shape of x trainging set {} '.format(x_trainset.shape),'&','shape of y training set {}'.format(y_trainset.shape))"
   ]
  },
  {
   "cell_type": "code",
   "execution_count": 36,
   "id": "7b909306",
   "metadata": {},
   "outputs": [
    {
     "name": "stdout",
     "output_type": "stream",
     "text": [
      "shape of x testing set (60, 5)  & shape of y testing set (60,)\n"
     ]
    }
   ],
   "source": [
    "print('shape of x testing set {} '.format(x_testset.shape),'&','shape of y testing set {}'.format(y_testset.shape))"
   ]
  },
  {
   "cell_type": "code",
   "execution_count": 37,
   "id": "aa6e144c",
   "metadata": {},
   "outputs": [
    {
     "data": {
      "text/plain": [
       "DecisionTreeClassifier(criterion='entropy', max_depth=4)"
      ]
     },
     "execution_count": 37,
     "metadata": {},
     "output_type": "execute_result"
    }
   ],
   "source": [
    "# modeling\n",
    "drugtree = DecisionTreeClassifier(criterion  = 'entropy',max_depth = 4)\n",
    "drugtree"
   ]
  },
  {
   "cell_type": "code",
   "execution_count": 38,
   "id": "ee8409d6",
   "metadata": {},
   "outputs": [
    {
     "data": {
      "text/plain": [
       "DecisionTreeClassifier(criterion='entropy', max_depth=4)"
      ]
     },
     "execution_count": 38,
     "metadata": {},
     "output_type": "execute_result"
    }
   ],
   "source": [
    "drugtree.fit(x_trainset,y_trainset)"
   ]
  },
  {
   "cell_type": "code",
   "execution_count": 39,
   "id": "b26559ae",
   "metadata": {},
   "outputs": [],
   "source": [
    "predtree = drugtree.predict(x_testset)"
   ]
  },
  {
   "cell_type": "code",
   "execution_count": 41,
   "id": "bfa8ff11",
   "metadata": {},
   "outputs": [
    {
     "name": "stdout",
     "output_type": "stream",
     "text": [
      "['drugY' 'drugX' 'drugX' 'drugX' 'drugX']\n",
      "['drugY' 'drugX' 'drugX' 'drugX' 'drugX']\n"
     ]
    }
   ],
   "source": [
    "print(predtree[0:5])\n",
    "print(y_testset[0:5])"
   ]
  },
  {
   "cell_type": "code",
   "execution_count": 42,
   "id": "af897645",
   "metadata": {},
   "outputs": [
    {
     "name": "stdout",
     "output_type": "stream",
     "text": [
      "decisiontrees accuracy :  0.9833333333333333\n"
     ]
    }
   ],
   "source": [
    "# evaluation \n",
    "from sklearn import metrics \n",
    "import matplotlib.pyplot as plt\n",
    "print('decisiontrees accuracy : ',metrics.accuracy_score(y_testset , predtree))"
   ]
  },
  {
   "cell_type": "code",
   "execution_count": 51,
   "id": "876b71d3",
   "metadata": {},
   "outputs": [
    {
     "data": {
      "text/plain": [
       "[Text(348.75, 489.24, 'X[4] <= 14.615\\nentropy = 1.929\\nsamples = 140\\nvalue = [16, 11, 11, 33, 69]'),\n",
       " Text(279.0, 380.52000000000004, 'X[2] <= 0.5\\nentropy = 1.832\\nsamples = 71\\nvalue = [16, 11, 11, 33, 0]'),\n",
       " Text(139.5, 271.8, 'X[0] <= 50.5\\nentropy = 0.975\\nsamples = 27\\nvalue = [16, 11, 0, 0, 0]'),\n",
       " Text(69.75, 163.08000000000004, 'entropy = 0.0\\nsamples = 16\\nvalue = [16, 0, 0, 0, 0]'),\n",
       " Text(209.25, 163.08000000000004, 'entropy = 0.0\\nsamples = 11\\nvalue = [0, 11, 0, 0, 0]'),\n",
       " Text(418.5, 271.8, 'X[3] <= 0.5\\nentropy = 0.811\\nsamples = 44\\nvalue = [0, 0, 11, 33, 0]'),\n",
       " Text(348.75, 163.08000000000004, 'X[2] <= 1.5\\nentropy = 0.998\\nsamples = 21\\nvalue = [0, 0, 11, 10, 0]'),\n",
       " Text(279.0, 54.360000000000014, 'entropy = 0.0\\nsamples = 11\\nvalue = [0, 0, 11, 0, 0]'),\n",
       " Text(418.5, 54.360000000000014, 'entropy = 0.0\\nsamples = 10\\nvalue = [0, 0, 0, 10, 0]'),\n",
       " Text(488.25, 163.08000000000004, 'entropy = 0.0\\nsamples = 23\\nvalue = [0, 0, 0, 23, 0]'),\n",
       " Text(418.5, 380.52000000000004, 'entropy = 0.0\\nsamples = 69\\nvalue = [0, 0, 0, 0, 69]')]"
      ]
     },
     "execution_count": 51,
     "metadata": {},
     "output_type": "execute_result"
    },
    {
     "data": {
      "image/png": "[encoded data removed]",
      "text/plain": [
       "<Figure size 720x720 with 1 Axes>"
      ]
     },
     "metadata": {
      "needs_background": "light"
     },
     "output_type": "display_data"
    }
   ],
   "source": [
    "# visualization\n",
    "plt.figure(figsize=(10,10))\n",
    "tree.plot_tree(drugtree)\n"
   ]
  },
  {
   "cell_type": "code",
   "execution_count": null,
   "id": "d70b3a3b",
   "metadata": {},
   "outputs": [],
   "source": []
  }
 ],
 "metadata": {
  "kernelspec": {
   "display_name": "Python 3",
   "language": "python",
   "name": "python3"
  },
  "language_info": {
   "codemirror_mode": {
    "name": "ipython",
    "version": 3
   },
   "file_extension": ".py",
   "mimetype": "text/x-python",
   "name": "python",
   "nbconvert_exporter": "python",
   "pygments_lexer": "ipython3",
   "version": "3.8.8"
  }
 },
 "nbformat": 4,
 "nbformat_minor": 5
}
